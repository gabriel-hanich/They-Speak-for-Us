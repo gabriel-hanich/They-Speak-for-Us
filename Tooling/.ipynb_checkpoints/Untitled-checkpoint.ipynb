{
 "cells": [
  {
   "cell_type": "markdown",
   "id": "083452c1",
   "metadata": {},
   "source": [
    "# Media Analysis using MongoDB\n",
    "## By Gabriel Hanich"
   ]
  },
  {
   "cell_type": "code",
   "execution_count": 44,
   "id": "b293c334",
   "metadata": {},
   "outputs": [],
   "source": [
    "# Imports\n",
    "import json\n",
    "from datetime import datetime\n",
    "\n",
    "from pymongo.mongo_client import MongoClient\n",
    "from pymongo.server_api import ServerApi\n",
    "import pymongo.errors\n",
    "\n",
    "from nltk.tokenize import word_tokenize\n",
    "from nltk.corpus import stopwords as corpusStopwords\n",
    "from nltk import pos_tag\n"
   ]
  },
  {
   "cell_type": "code",
   "execution_count": 45,
   "id": "7996f405",
   "metadata": {},
   "outputs": [],
   "source": [
    "# Load DB constants\n",
    "with open(\"./settings.json\", \"r\") as constantsFile:\n",
    "    DBConstants = json.load(constantsFile)"
   ]
  },
  {
   "cell_type": "code",
   "execution_count": 46,
   "id": "0ab511be",
   "metadata": {},
   "outputs": [],
   "source": [
    "# User settings\n",
    "\n",
    "# Dates\n",
    "doSetDates = True # Whether to use user-specified dates\n",
    "startingDate = \"13/9/2021\"\n",
    "endDate = \"23/01/2022\"\n",
    "\n",
    "# Outlets\n",
    "doSetOutlets = False # Whether to limit search to a set of outlets\n",
    "setOutlets = [] # Only include a set of outlets\n",
    "doTotalOutlets = True # Whether to take the outlets as a total\n",
    "\n",
    "# Title searching\n",
    "titleSearchWords = [] # Only include articles with headlines containing these words (Leave BLANK to disable)\n",
    "\n",
    "# Similar Words settings\n",
    "doSimilarWords = False # Whether to scan reddit for similar words to the title search words\n",
    "searchPostsCount = 500 # How many posts to scan per word\n",
    "searchWords = 10 # How many words from reddit are added per keyword\n",
    "minOccurenceCount = 5 # Minimum amount of times a word has to appear to be registered as 'similar'\n",
    "\n",
    "# Chart Settings\n",
    "commonWordCount = 1 # How many common words per day are displayed\n",
    "chartType = \"articleCount\" # Type of chart to make'\n",
    "saveAsCSV = False\n",
    "\n",
    "\n",
    "# Convert string userDates to datetime objs\n",
    "startingDate = datetime.strptime(startingDate, \"%d/%m/%Y\")\n",
    "endDate = datetime.strptime(endDate, \"%d/%m/%Y\")"
   ]
  },
  {
   "cell_type": "code",
   "execution_count": 24,
   "id": "d890b8e9",
   "metadata": {},
   "outputs": [
    {
     "name": "stdout",
     "output_type": "stream",
     "text": [
      "{\n",
      "publishDate: {$gt: 2021-09-13 }\n"
     ]
    }
   ],
   "source": [
    "# Using above user settings, generate a aggregation string\n",
    "aggregateString = \"{\\n\"\n",
    "if doSetDates:\n",
    "    aggregateString += \"publishDate: {$gt: \" + startingDate.strftime(\"%Y-%m-%d\") + \" },\\n\"\n",
    "    aggregateString += \" publishDate: {$lt: \" + endDate.strftime(\"%Y-%m-%d\") +\"}\"\n",
    "\n",
    "print(aggregateString)\n"
   ]
  },
  {
   "cell_type": "code",
   "execution_count": 21,
   "id": "632115de",
   "metadata": {},
   "outputs": [],
   "source": [
    "# Connect to DB and sort data by selected aggregation\n",
    "DBClient = MongoClient(DBConstants[\"DB_URI\"], server_api=ServerApi('1'))\n",
    "\n",
    "db = DBClient.get_database(DBConstants[\"DB_NAME\"])\n",
    "newsCollection = db[\"newsData\"]\n",
    "\n",
    "DBClient.close()"
   ]
  },
  {
   "cell_type": "code",
   "execution_count": null,
   "id": "3bba0999",
   "metadata": {},
   "outputs": [],
   "source": []
  }
 ],
 "metadata": {
  "kernelspec": {
   "display_name": "Python 3 (ipykernel)",
   "language": "python",
   "name": "python3"
  },
  "language_info": {
   "codemirror_mode": {
    "name": "ipython",
    "version": 3
   },
   "file_extension": ".py",
   "mimetype": "text/x-python",
   "name": "python",
   "nbconvert_exporter": "python",
   "pygments_lexer": "ipython3",
   "version": "3.9.7"
  }
 },
 "nbformat": 4,
 "nbformat_minor": 5
}
